{
 "metadata": {
  "name": "",
  "signature": "sha256:097736980b69bba9a6e5a79398b67c26c175c8e3ac7a11cf3f1e9bc20731655e"
 },
 "nbformat": 3,
 "nbformat_minor": 0,
 "worksheets": [
  {
   "cells": [
    {
     "cell_type": "markdown",
     "metadata": {},
     "source": [
      "The goal is to model the Fatty Acid elongation process using Stochastic Petri Nets. "
     ]
    },
    {
     "cell_type": "heading",
     "level": 3,
     "metadata": {},
     "source": [
      "Syntax and Semantics of Petri Nets"
     ]
    },
    {
     "cell_type": "heading",
     "level": 6,
     "metadata": {},
     "source": [
      "Simple Petri Nets"
     ]
    },
    {
     "cell_type": "markdown",
     "metadata": {},
     "source": [
      "A Petri Net is a bi-partite graph consisting of nodes from two distinct classes: Places and Transitions. Places are represented by circles and transitions with squares/rectangles. Each place is associated with a positive integer number which is usually called tokens in the PN literature. Each edge between a transition and a place is also associated with a number which is usually callled multiplicity of that edge. All the places that are connected with the incoming edges of a transition are called pre-places of that transition and all the places that are connected via outgoing edges with the transition are called post-places of that transition. When a transition 'fires' tokens are removed from the pre-places according to the multiplicities of the edges connecting them to the transition and are placed into the post-places again according the mulitplicities of the connecting edges. A transition is said to be enabled if there are enough tokens in its pre-places to be able to fire. In other words the number of tokens in a pre-place of a transition must be higher than the multiplicity of the edge connecting it to the transition.\n",
      "\n",
      "More formally, a Petri Net is a 4-tuple: $PN=(P, T, f, m_0) $\n",
      "where P is the set of places, T is the set of transitions, f is a function describing the connectivity of the net defined as $f: ((P\\times T) \\cup (P\\times T)) \\rightarrow \\mathbb{N}$, and $m_0$ is the initial numbers associated with each place. Collectivelly the set of numbers associated with all the places in the net, $m$, is called the marking of the system."
     ]
    },
    {
     "cell_type": "markdown",
     "metadata": {},
     "source": [
      "To illustrate the concepts described above consider a simple example:"
     ]
    },
    {
     "cell_type": "markdown",
     "metadata": {},
     "source": [
      "![Simple PN example](images/example.png)"
     ]
    },
    {
     "cell_type": "markdown",
     "metadata": {},
     "source": [
      "In the example here the $P = \\{p_1, p_2, p_3\\}$, $T=\\{t1\\}$. In this illustration the tokens associated with each place are shown by circles inside the place. If the multiplicity of an edge is 1 then it is usually omitted. Here the pre-places of transition $t_1$ are $p_1$ and $p_2$ with a single post-place $p_3$. When transition $t_1$ fires 2 tokens from $p_1$ and 1 token from $p_2$ are 'consumed' and 3 tokens are transferred to the post-place $p_3$.\n",
      "\n",
      "This description of the fire process leads nicely into the operational semantics of a Petri Net. The system evolves by repeating the following: at each step one of the enabled transitions is chosen at random, the chosen transition fires and the corresponding changes in token numbers are applied. Notice that although there is an ordering in the execution of transitions which can be interpreted as the evolution of the system in time, the simple PN formalism does not explicitly model time."
     ]
    },
    {
     "cell_type": "heading",
     "level": 6,
     "metadata": {},
     "source": [
      "Stochastic Petri Nets"
     ]
    },
    {
     "cell_type": "markdown",
     "metadata": {},
     "source": [
      "A Stochastic Petri Net (SPN) is an extension to the Petri Net formalism to explicitly model time. A SPN maintains the syntax and semantics described above with the only difference that now each transition $t$ has an associated wait time, $X_t$, which is a random variable distributed according to some probability distribution $f_{X_t}$. The probability distribution function usually used is a negative exponential with some, potentially marking-dependent, rate $\\lambda$. As before transitions become enabled and fire as but the only difference is that the associated wait time has to elapse before that happens.\n",
      "The operation is somewhat changed from that of simple PNs. Now at each time point a waiting time is sampled from the probabilistic function of each enabled transition in the net and the transition with the lowest waiting time fires. \n",
      "\n",
      "Formally  an SPN is 5-tuple defined: $SPN=(P, T, f, m_0, \\nu)$. All the definitions are the same as before, in the case of the simple PNs, with the only difference being the addition of the funtion $\\nu$ defined as $\\nu: T \\rightarrow H$. The function $\\nu$ assigns a hazard function to each transition $t$ which defines the potentially marking dependent rate $\\lambda_t(m)$ rate for the probability density function, $f_t$, for that transition."
     ]
    },
    {
     "cell_type": "heading",
     "level": 6,
     "metadata": {},
     "source": [
      "Biological intepretation of SPNs"
     ]
    },
    {
     "cell_type": "markdown",
     "metadata": {},
     "source": [
      "Even though PNs and their extension have been used extensively in Computer Science to model distributed and concurrent systems they were initially inspired by biological networks. They have an especially natural correspondence to metabolic networks. In metabolic networks metabolites are transformed from one to another through the action of enzymes. Each reaction consumes some metabolites and produces others. Metabolites and other chemical species can be associated with places and their absolute numbers can be thought of as the number of tokens for that place. Reactions are then the transitions with the substrates being the pre-places and the product being the post-places. The stoichiometry of the reactions is also captured very naturally by the multiplicity of the edges connecting places and transitions. The rates are then associated with the kinetic rates of the reactions."
     ]
    },
    {
     "cell_type": "heading",
     "level": 3,
     "metadata": {},
     "source": [
      "SPN model of Fatty Acid elongation process"
     ]
    },
    {
     "cell_type": "code",
     "collapsed": false,
     "input": [],
     "language": "python",
     "metadata": {},
     "outputs": []
    }
   ],
   "metadata": {}
  }
 ]
}