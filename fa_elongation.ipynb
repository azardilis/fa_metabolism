{
 "metadata": {
  "name": "",
  "signature": "sha256:ae62013967bdefa20eaaae3b72b6ff864b80b8af8882d5fe1a740c667cca98b8"
 },
 "nbformat": 3,
 "nbformat_minor": 0,
 "worksheets": [
  {
   "cells": [
    {
     "cell_type": "markdown",
     "metadata": {},
     "source": [
      "The goal is to model the Fatty Acid elongation process using Stochastic Petri Nets. "
     ]
    },
    {
     "cell_type": "heading",
     "level": 3,
     "metadata": {},
     "source": [
      "Syntax and Semantics of Petri Nets"
     ]
    },
    {
     "cell_type": "heading",
     "level": 6,
     "metadata": {},
     "source": [
      "Simple Petri Nets"
     ]
    },
    {
     "cell_type": "markdown",
     "metadata": {},
     "source": [
      "A Petri Net is a bi-partite graph consisting of nodes from two distinct classes: Places and Transitions. Places are represented by circles and transitions with squares/rectangles. Each place is associated with a positive integer number which is usually called tokens in the PN literature. Each edge between a transition and a place is also associated with a number which is usually callled multiplicity of that edge. All the places that are connected with the incoming edges of a transition are called pre-places of that transition and all the places that are connected via outgoing edges with the transition are called post-places of that transition. When a transition 'fires' tokens are removed from the pre-places according to the multiplicities of the edges connecting them to the transition and are placed into the post-places again according the mulitplicities of the connecting edges. A transition is said to be enabled if there are enough tokens in its pre-places to be able to fire. In other words the number of tokens in a pre-place of a transition must be higher than the multiplicity of the edge connecting it to the transition.\n",
      "\n",
      "More formally, a Petri Net is a 4-tuple: $PN=(P, T, f, m_0) $\n",
      "where P is the set of places, T is the set of transitions, f is a function describing the connectivity of the net defined as $f: ((P\\times T) \\cup (P\\times T)) \\rightarrow \\mathbb{N}$, and $m_0$ is the initial numbers associated with each place. Collectivelly the set of numbers associated with all the places in the net, $m$, is called the marking of the system."
     ]
    },
    {
     "cell_type": "markdown",
     "metadata": {},
     "source": [
      "To illustrate the concepts described above consider a simple example:"
     ]
    },
    {
     "cell_type": "markdown",
     "metadata": {},
     "source": [
      "![Simple PN example](images/example.png)"
     ]
    },
    {
     "cell_type": "markdown",
     "metadata": {},
     "source": [
      "In the example here the $P = \\{p_1, p_2, p_3\\}$, $T=\\{t1\\}$. In this illustration the tokens associated with each place are shown by circles inside the place. If the multiplicity of an edge is 1 then it is usually omitted. Here the pre-places of transition $t_1$ are $p_1$ and $p_2$ with a single post-place $p_3$. When transition $t_1$ fires 2 tokens from $p_1$ and 1 token from $p_2$ are 'consumed' and 3 tokens are transferred to the post-place $p_3$.\n",
      "\n",
      "This description of the fire process leads nicely into the operational semantics of a Petri Net. The system evolves by repeating the following: at each step one of the enabled transitions is chosen at random, the chosen transition fires and the corresponding changes in token numbers are applied. Notice that although there is an ordering in the execution of transitions which can be interpreted as the evolution of the system in time, the simple PN formalism does not explicitly model time."
     ]
    },
    {
     "cell_type": "heading",
     "level": 6,
     "metadata": {},
     "source": [
      "Stochastic Petri Nets"
     ]
    },
    {
     "cell_type": "markdown",
     "metadata": {},
     "source": [
      "A Stochastic Petri Net (SPN) is an extension to the Petri Net formalism to explicitly model time. A SPN maintains the syntax and semantics described above with the only difference that now each transition $t$ has an associated wait time, $X_t$, which is a random variable distributed according to some probability distribution $f_{X_t}$. The probability distribution function usually used is a negative exponential with some, potentially marking-dependent, firing rate $\\lambda$. As before transitions become enabled and fire as but the only difference is that the associated wait time has to elapse before that happens.\n",
      "The operation is somewhat changed from that of simple PNs. Now at each time point a waiting time is sampled from the probabilistic function of each enabled transition in the net and the transition with the lowest waiting time fires. \n",
      "\n",
      "Formally  an SPN is 5-tuple defined: $SPN=(P, T, f, m_0, \\nu)$. All the definitions are the same as before, in the case of the simple PNs, with the only difference being the addition of the funtion $\\nu$ defined as $\\nu: T \\rightarrow H$. The function $\\nu$ assigns a hazard function to each transition $t$ which defines the potentially marking dependent firing rate $\\lambda_t(m)$ rate for the probability density function, $f_t$, for that transition."
     ]
    },
    {
     "cell_type": "heading",
     "level": 6,
     "metadata": {},
     "source": [
      "Biological intepretation of SPNs"
     ]
    },
    {
     "cell_type": "markdown",
     "metadata": {},
     "source": [
      "Even though PNs and their extension have been used extensively in Computer Science to model distributed and concurrent systems they were initially inspired by biological networks. They have an especially natural correspondence to metabolic networks. In metabolic networks metabolites are transformed from one to another through the action of enzymes. Each reaction consumes some metabolites and produces others. Metabolites and other chemical species can be associated with places and their absolute numbers can be thought of as the number of tokens for that place. Reactions are then the transitions with the substrates being the pre-places and the product being the post-places. The stoichiometry of the reactions is also captured very naturally by the multiplicity of the edges connecting places and transitions. The rates are then associated with the kinetic rates of the reactions."
     ]
    },
    {
     "cell_type": "heading",
     "level": 3,
     "metadata": {},
     "source": [
      "SPN model of Fatty Acid elongation process"
     ]
    },
    {
     "cell_type": "heading",
     "level": 6,
     "metadata": {},
     "source": [
      "Fatty Acid(FA) elongation process"
     ]
    },
    {
     "cell_type": "markdown",
     "metadata": {},
     "source": [
      "Fatty acids are carboxylic acids with long-chain hydrocarbon side groups. If the carbon bonds in the between the CH groups in their side chains are all single then the FA is called a saturated fatty acid and if they contain double bonds then they are called unsaturated. See picture below:"
     ]
    },
    {
     "cell_type": "markdown",
     "metadata": {},
     "source": [
      "![Chemical composition of saturated and unsaturated fatty acids.](images/fas.png)"
     ]
    },
    {
     "cell_type": "markdown",
     "metadata": {},
     "source": [
      "They are usually defined by the number of carbons in their side chains, so for example a fatty acid with 16 carbons is denoted C16:0 with the number after the colon denoting the location of double bonds. $C_{16}$ and $C_{18}$ are the most naturally occuring FAs. Fatty acids usually have even number of carbon atoms because they are created by the concatenation of $C_2$ units. It is this concatenation process of $C_2$ units to elongate FAs that we are interested in here."
     ]
    },
    {
     "cell_type": "markdown",
     "metadata": {},
     "source": [
      "There are 3 pathway involved in this elongation process: FA biosynthesis, FA elongation in mitochondria, and FA elongation in Endoplasmic Reticulum(ER). Here we focus on the last two for even-chain unsaturated FAs.\n",
      "The FA elongation pathway in mitochondria only goes up to $C_{16}$ whereas the one in the ER goes on to create very long chain fatty acids $C_n$ for n>16. It is this two elongation pathways, in the mitochondria and ER, that we focus on here."
     ]
    },
    {
     "cell_type": "heading",
     "level": 6,
     "metadata": {},
     "source": [
      "The SPN model"
     ]
    },
    {
     "cell_type": "markdown",
     "metadata": {},
     "source": [
      "The model is a simplified abstract view of the elongation process as whole so it combines the two elongation pathways described above and describes the elongation from $C_6$ up to $C_{22}$. The model was manually converted from the KEGG pathway model:|"
     ]
    },
    {
     "cell_type": "markdown",
     "metadata": {},
     "source": [
      "![SPN model for the FA elongation process](images/fa_elongation_full.png)"
     ]
    },
    {
     "cell_type": "markdown",
     "metadata": {},
     "source": [
      "When an Acyl_CoA(n) object is created it has the option of either being converted to a regular $C_n$ fatty acid or go on and be used as a building block for $C_{n+2}$. Since this is a valid SPN it can be executed according to the operational semantics described above. The output of the model are the number of tokens accumulated at the places corresponding to the FAs(C12:0, C14:0 and so on). This model was done with SNOOPY and although SNOOPY is a good tool for a first exploration of the system it doesn't scale very well especially if you want to do multiple simulations to derive some distribution of the output even-chain FAs. For that reason the model was also converted to the PySCeS model definition language so it could easily be read into Python for simulation."
     ]
    },
    {
     "cell_type": "code",
     "collapsed": false,
     "input": [
      "import fa"
     ],
     "language": "python",
     "metadata": {},
     "outputs": [
      {
       "ename": "ImportError",
       "evalue": "No module named fa",
       "output_type": "pyerr",
       "traceback": [
        "\u001b[0;31m---------------------------------------------------------------------------\u001b[0m\n\u001b[0;31mImportError\u001b[0m                               Traceback (most recent call last)",
        "\u001b[0;32m<ipython-input-1-ec06220dd9a9>\u001b[0m in \u001b[0;36m<module>\u001b[0;34m()\u001b[0m\n\u001b[0;32m----> 1\u001b[0;31m \u001b[0;32mimport\u001b[0m \u001b[0mfa\u001b[0m\u001b[0;34m\u001b[0m\u001b[0m\n\u001b[0m",
        "\u001b[0;31mImportError\u001b[0m: No module named fa"
       ]
      }
     ],
     "prompt_number": 1
    },
    {
     "cell_type": "code",
     "collapsed": false,
     "input": [],
     "language": "python",
     "metadata": {},
     "outputs": []
    }
   ],
   "metadata": {}
  }
 ]
}