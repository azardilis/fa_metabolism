{
 "metadata": {
  "name": "",
  "signature": "sha256:9358af09bc5ff59111b73a693281972ad9984333d2bedaef85807053b65ee734"
 },
 "nbformat": 3,
 "nbformat_minor": 0,
 "worksheets": [
  {
   "cells": [
    {
     "cell_type": "markdown",
     "metadata": {},
     "source": [
      "The goal is to model the Fatty Acid elongation process using Stochastic Petri Nets. "
     ]
    },
    {
     "cell_type": "heading",
     "level": 3,
     "metadata": {},
     "source": [
      "Syntax and Semantics of Petri Nets"
     ]
    },
    {
     "cell_type": "heading",
     "level": 6,
     "metadata": {},
     "source": [
      "Simple Petri Nets"
     ]
    },
    {
     "cell_type": "markdown",
     "metadata": {},
     "source": [
      "A Petri Net is a bi-partite graph consisting of nodes from two distinct classes: Places and Transitions. Places are represented by circles and transitions with squares/rectangles. Each place is associated with a positive integer number which is usually called tokens in the PN literature. Each edge between a transition and a place is also associated with a number which is usually callled multiplicity of that edge. All the places that are connected with the incoming edges of a transition are called pre-places of that transition and all the places that are connected via outgoing edges with the transition are called post-places of that transition. When a transition 'fires' tokens are removed from the pre-places according to the multiplicities of the edges connecting them to the transition and are placed into the post-places again according the mulitplicities of the connecting edges. A transition is said to be enabled if there are enough tokens in its pre-places to be able to fire. In other words the number of tokens in a pre-place of a transition must be higher than the multiplicity of the edge connecting it to the transition.\n",
      "\n",
      "More formally, a Petri Net is a 4-tuple: $PN=(P, T, f, m_0) $\n",
      "where P is the set of places, T is the set of transitions, f is a function describing the connectivity of the net defined as $f: ((P\\times T) \\cup (P\\times T)) \\rightarrow \\mathbb{N}$, and $m_0$ is the initial numbers associated with each place. Collectivelly the set of numbers associated with all the places in the net, $m$, is called the marking of the system."
     ]
    },
    {
     "cell_type": "markdown",
     "metadata": {},
     "source": [
      "To illustrate the concepts described above consider a simple example:"
     ]
    },
    {
     "cell_type": "markdown",
     "metadata": {},
     "source": [
      "![Simple PN example](doc/images/example.png)"
     ]
    },
    {
     "cell_type": "markdown",
     "metadata": {},
     "source": [
      "In the example here the $P = \\{p_1, p_2, p_3\\}$, $T=\\{t1\\}$. In this illustration the tokens associated with each place are shown by circles inside the place. If the multiplicity of an edge is 1 then it is usually omitted. Here the pre-places of transition $t_1$ are $p_1$ and $p_2$ with a single post-place $p_3$. When transition $t_1$ fires 2 tokens from $p_1$ and 1 token from $p_2$ are 'consumed' and 3 tokens are transferred to the post-place $p_3$.\n",
      "\n",
      "This description of the fire process leads nicely into the operational semantics of a Petri Net. The system evolves by repeating the following: at each step one of the enabled transitions is chosen at random, the chosen transition fires and the corresponding changes in token numbers are applied. Notice that although there is an ordering in the execution of transitions which can be interpreted as the evolution of the system in time, the simple PN formalism does not explicitly model time."
     ]
    },
    {
     "cell_type": "heading",
     "level": 6,
     "metadata": {},
     "source": [
      "Stochastic Petri Nets"
     ]
    },
    {
     "cell_type": "markdown",
     "metadata": {},
     "source": [
      "A Stochastic Petri Net (SPN) is an extension to the Petri Net formalism to explicitly model time. A SPN maintains the syntax and semantics described above with the only difference that now each transition $t$ has an associated wait time, $X_t$, which is a random variable distributed according to some probability distribution $f_{X_t}$. The probability distribution function usually used is a negative exponential with some, potentially marking-dependent, firing rate $\\lambda$. As before transitions become enabled and fire as but the only difference is that the associated wait time has to elapse before that happens.\n",
      "The operation is somewhat changed from that of simple PNs. Now at each time point a waiting time is sampled from the probabilistic function of each enabled transition in the net and the transition with the lowest waiting time fires. \n",
      "\n",
      "Formally  an SPN is 5-tuple defined: $SPN=(P, T, f, m_0, \\nu)$. All the definitions are the same as before, in the case of the simple PNs, with the only difference being the addition of the funtion $\\nu$ defined as $\\nu: T \\rightarrow H$. The function $\\nu$ assigns a hazard function to each transition $t$ which defines the potentially marking dependent firing rate $\\lambda_t(m)$ rate for the probability density function, $f_t$, for that transition."
     ]
    },
    {
     "cell_type": "heading",
     "level": 6,
     "metadata": {},
     "source": [
      "Biological intepretation of SPNs"
     ]
    },
    {
     "cell_type": "markdown",
     "metadata": {},
     "source": [
      "Even though PNs and their extension have been used extensively in Computer Science to model distributed and concurrent systems they were initially inspired by biological networks. They have an especially natural correspondence to metabolic networks. In metabolic networks metabolites are transformed from one to another through the action of enzymes. Each reaction consumes some metabolites and produces others. Metabolites and other chemical species can be associated with places and their absolute numbers can be thought of as the number of tokens for that place. Reactions are then the transitions with the substrates being the pre-places and the product being the post-places. The stoichiometry of the reactions is also captured very naturally by the multiplicity of the edges connecting places and transitions. The rates are then associated with the kinetic rates of the reactions."
     ]
    },
    {
     "cell_type": "heading",
     "level": 3,
     "metadata": {},
     "source": [
      "SPN model of Fatty Acid elongation process"
     ]
    },
    {
     "cell_type": "heading",
     "level": 6,
     "metadata": {},
     "source": [
      "Fatty Acid(FA) elongation process"
     ]
    },
    {
     "cell_type": "markdown",
     "metadata": {},
     "source": [
      "Fatty acids are carboxylic acids with long-chain hydrocarbon side groups. If the carbon bonds in the between the CH groups in their side chains are all single then the FA is called a saturated fatty acid and if they contain double bonds then they are called unsaturated. See picture below:"
     ]
    },
    {
     "cell_type": "markdown",
     "metadata": {},
     "source": [
      "![Chemical composition of saturated and unsaturated fatty acids.](doc/images/fas.png)"
     ]
    },
    {
     "cell_type": "markdown",
     "metadata": {},
     "source": [
      "They are usually defined by the number of carbons in their side chains, so for example a fatty acid with 16 carbons is denoted C16:0 with the number after the colon denoting the location of double bonds. $C_{16}$ and $C_{18}$ are the most naturally occuring FAs. Fatty acids usually have even number of carbon atoms because they are created by the concatenation of $C_2$ units. It is this concatenation process of $C_2$ units to elongate FAs that we are interested in here."
     ]
    },
    {
     "cell_type": "markdown",
     "metadata": {},
     "source": [
      "There are 3 pathway involved in this elongation process: FA biosynthesis, FA elongation in mitochondria, and FA elongation in Endoplasmic Reticulum(ER). Here we focus on the last two for even-chain unsaturated FAs.\n",
      "The FA elongation pathway in mitochondria only goes up to $C_{16}$ whereas the one in the ER goes on to create very long chain fatty acids $C_n$ for n>16. It is this two elongation pathways, in the mitochondria and ER, that we focus on here."
     ]
    },
    {
     "cell_type": "heading",
     "level": 6,
     "metadata": {},
     "source": [
      "The SPN model"
     ]
    },
    {
     "cell_type": "markdown",
     "metadata": {},
     "source": [
      "The model is a simplified abstract view of the elongation process as whole so it combines the two elongation pathways described above and describes the elongation from $C_6$ up to $C_{22}$. The model was manually converted from the KEGG pathway model:|"
     ]
    },
    {
     "cell_type": "markdown",
     "metadata": {},
     "source": [
      "![SPN model for the FA elongation process](doc/images/fa_elongation_full.png)"
     ]
    },
    {
     "cell_type": "markdown",
     "metadata": {},
     "source": [
      "When an Acyl_CoA(n) object is created it has the option of either being converted to a regular $C_n$ fatty acid or go on and be used as a building block for $C_{n+2}$. Since this is a valid SPN it can be executed according to the operational semantics described above. The output of the model are the number of tokens accumulated at the places corresponding to the FAs(C12:0, C14:0 and so on). This model was done with SNOOPY and although SNOOPY is a good tool for a first exploration of the system it doesn't scale very well especially if you want to do multiple simulations to derive some distribution of the output even-chain FAs. For that reason the model was also converted to the PySCeS model definition language so it could easily be read into Python for simulation. The model can be read as follows into a python object which contains the stoichiometry matrix $S$, the pre-places $pre$, the transitions, places."
     ]
    },
    {
     "cell_type": "code",
     "collapsed": false,
     "input": [
      "import fa\n",
      "spn = fa.load_model(\"model/fa_elongation_full.psc\")"
     ],
     "language": "python",
     "metadata": {},
     "outputs": [
      {
       "output_type": "stream",
       "stream": "stdout",
       "text": [
        "Using model directory: model\n",
        "model/fa_elongation_full.psc loading ..... \n",
        "Parsing file: model/fa_elongation_full.psc\n",
        "Info: No reagents have been fixed\n",
        " \n",
        "Calculating L matrix . . "
       ]
      },
      {
       "output_type": "stream",
       "stream": "stdout",
       "text": [
        ". . . . .  done.\n",
        "Calculating K matrix . . . . . . . no flux conservation\n",
        " done.\n",
        " \n",
        "Integration successful.\n",
        "LSODA time for 20 points: 0.00773406028748\n"
       ]
      }
     ],
     "prompt_number": 3
    },
    {
     "cell_type": "code",
     "collapsed": false,
     "input": [
      "spn.S"
     ],
     "language": "python",
     "metadata": {},
     "outputs": [
      {
       "metadata": {},
       "output_type": "pyout",
       "prompt_number": 6,
       "text": [
        "array([[-1, -1, -1, -1,  0, -1,  0, -1,  0, -1,  0, -1,  0, -1,  0],\n",
        "       [-1,  0,  0,  0,  0,  0,  0,  0,  0,  0,  0,  0,  0,  0,  0],\n",
        "       [ 1, -1,  0,  0,  0,  0,  0,  0,  0,  0,  0,  0,  0,  0,  0],\n",
        "       [ 0,  1, -1,  0,  0,  0,  0,  0,  0,  0,  0,  0,  0,  0,  0],\n",
        "       [ 0,  0,  1, -1,  0,  0,  0,  0,  0,  0,  0,  0,  0,  0,  0],\n",
        "       [ 0,  0,  0,  1, -1, -1,  0,  0,  0,  0,  0,  0,  0,  0,  0],\n",
        "       [ 0,  0,  0,  0,  1,  0,  0,  0,  0,  0,  0,  0,  0,  0,  0],\n",
        "       [ 0,  0,  0,  0,  0,  1, -1, -1,  0,  0,  0,  0,  0,  0,  0],\n",
        "       [ 0,  0,  0,  0,  0,  0,  1,  0,  0,  0,  0,  0,  0,  0,  0],\n",
        "       [ 0,  0,  0,  0,  0,  0,  0,  1, -1, -1,  0,  0,  0,  0,  0],\n",
        "       [ 0,  0,  0,  0,  0,  0,  0,  0,  1,  0,  0,  0,  0,  0,  0],\n",
        "       [ 0,  0,  0,  0,  0,  0,  0,  0,  0,  1, -1, -1,  0,  0,  0],\n",
        "       [ 0,  0,  0,  0,  0,  0,  0,  0,  0,  0,  1,  0,  0,  0,  0],\n",
        "       [ 0,  0,  0,  0,  0,  0,  0,  0,  0,  0,  0,  1, -1, -1, -1],\n",
        "       [ 0,  0,  0,  0,  0,  0,  0,  0,  0,  0,  0,  0,  1,  0,  0],\n",
        "       [ 0,  0,  0,  0,  0,  0,  0,  0,  0,  0,  0,  0,  0,  1,  0],\n",
        "       [ 0,  0,  0,  0,  0,  0,  0,  0,  0,  0,  0,  0,  0,  0,  1]])"
       ]
      }
     ],
     "prompt_number": 6
    },
    {
     "cell_type": "code",
     "collapsed": false,
     "input": [
      "spn.places"
     ],
     "language": "python",
     "metadata": {},
     "outputs": [
      {
       "metadata": {},
       "output_type": "pyout",
       "prompt_number": 11,
       "text": [
        "['Inp_1',\n",
        " 'Inp_2',\n",
        " 'Acyl_CoA_6',\n",
        " 'Acyl_CoA_8',\n",
        " 'Acyl_CoA_10',\n",
        " 'Acyl_CoA_12',\n",
        " 'C12',\n",
        " 'Acyl_CoA_14',\n",
        " 'C14',\n",
        " 'Acyl_CoA_16',\n",
        " 'C16',\n",
        " 'Acyl_CoA_18',\n",
        " 'C18',\n",
        " 'Acyl_CoA_20',\n",
        " 'C20',\n",
        " 'Acyl_CoA_22',\n",
        " 'C22']"
       ]
      }
     ],
     "prompt_number": 11
    },
    {
     "cell_type": "markdown",
     "metadata": {},
     "source": [
      "Module `fa.py` contains two function to simulate the model. The first one is `fa.simulate_gill` which takes the spn object and the number of steps and executes the standard Gillespie simulation. The other second one is `fa.simulate_pn` which proceeds exactly according to the semantics of  SPN execution defined above and returns the output of the execution namely the number of tokens at all the places in the net after the number of steps, defined as argument, is passed or the system has reached a dead state(no enabled transition. Here the SPN is executed for 500 steps."
     ]
    },
    {
     "cell_type": "code",
     "collapsed": false,
     "input": [
      "out = fa.simulate_pn(spn, 500)\n",
      "out"
     ],
     "language": "python",
     "metadata": {},
     "outputs": [
      {
       "metadata": {},
       "output_type": "pyout",
       "prompt_number": 19,
       "text": [
        "array([ 0, 51,  0,  0,  1,  0,  0,  0,  1,  0, 39,  0,  7,  0,  0,  1,  0])"
       ]
      }
     ],
     "prompt_number": 19
    },
    {
     "cell_type": "markdown",
     "metadata": {},
     "source": [
      "To get the model distribution of output FAs over 100 runs with each simulation doing 500 steps:"
     ]
    },
    {
     "cell_type": "code",
     "collapsed": false,
     "input": [
      "out_dists = fa.get_model_dists(spn, 100, 500)\n",
      "out_dists"
     ],
     "language": "python",
     "metadata": {},
     "outputs": [
      {
       "metadata": {},
       "output_type": "pyout",
       "prompt_number": 21,
       "text": [
        "array([[  0.,  51.,   0., ...,   1.,   0.,   0.],\n",
        "       [  0.,  50.,   0., ...,   1.,   0.,   1.],\n",
        "       [  0.,  51.,   0., ...,   1.,   0.,   0.],\n",
        "       ..., \n",
        "       [  0.,  51.,   0., ...,   0.,   0.,   0.],\n",
        "       [  0.,  51.,   0., ...,   1.,   0.,   0.],\n",
        "       [  0.,  50.,   0., ...,   1.,   0.,   0.]])"
       ]
      }
     ],
     "prompt_number": 21
    },
    {
     "cell_type": "heading",
     "level": 3,
     "metadata": {},
     "source": [
      "Model inference"
     ]
    },
    {
     "cell_type": "heading",
     "level": 6,
     "metadata": {},
     "source": [
      "Goal"
     ]
    },
    {
     "cell_type": "markdown",
     "metadata": {},
     "source": [
      "The output of the stochastic process defined by the  SPN shown in the previous section is of course dependent on the firing rates of the transitions in the net. In the presence of real measured data for these output metabolites one question that one might ask is can we infer the real firing rates of the transitions in this stochastic process from the data? This is a classic ML inverse problem formulation:"
     ]
    },
    {
     "cell_type": "markdown",
     "metadata": {},
     "source": [
      "![Inference problem formulation](doc/images/inference.png)"
     ]
    },
    {
     "cell_type": "markdown",
     "metadata": {},
     "source": [
      "The goal here is to use the data as evidence to explore the space of all possible SPNs to find the SPN that is closer to the real model that created the data. This is usually involves some comparison between the data simulated by an  SPN and the real data to assess the model's fitness to the data. This is a classical optimisation problem and can be solved to get a point estimate of the parameters of the model with any standard optimisation methods. Alternatively, in order to get a distribution, Bayesian methods can be employed."
     ]
    },
    {
     "cell_type": "markdown",
     "metadata": {},
     "source": [
      "The data are output relative intensities from MS runs while the output of the SPN are absolute numbers of the output FAs so the comparison is not straight-forward."
     ]
    },
    {
     "cell_type": "heading",
     "level": 6,
     "metadata": {},
     "source": [
      "Comparison approach 1"
     ]
    },
    {
     "cell_type": "markdown",
     "metadata": {},
     "source": [
      "It helps to think of the stochastic process as a series of Bernoulli trials:"
     ]
    },
    {
     "cell_type": "markdown",
     "metadata": {},
     "source": [
      "![FA elongation as a series of Bernoulli trials](doc/images/bernoulli_trials.png)"
     ]
    },
    {
     "cell_type": "markdown",
     "metadata": {},
     "source": [
      "At each step "
     ]
    },
    {
     "cell_type": "code",
     "collapsed": false,
     "input": [],
     "language": "python",
     "metadata": {},
     "outputs": []
    }
   ],
   "metadata": {}
  }
 ]
}